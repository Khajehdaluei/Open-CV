{
 "cells": [
  {
   "cell_type": "markdown",
   "id": "9aa9b631",
   "metadata": {},
   "source": [
    "<div style=\"direction:rtl;text-align:center\"><img src=\"https://dl.mohammadkh.ir/logo.png\" alt=\"Mohammadkh.ir\" style=\"width: 250px;\"/></div>\n",
    "<h1><div style=\"direction:rtl;text-align:center\">Open CV</div></h1>"
   ]
  },
  {
   "cell_type": "code",
   "execution_count": 1,
   "id": "b5fa3a29",
   "metadata": {},
   "outputs": [],
   "source": [
    "import cv2\n",
    "import numpy as np"
   ]
  },
  {
   "cell_type": "code",
   "execution_count": 2,
   "id": "dfbe7cdf",
   "metadata": {},
   "outputs": [],
   "source": [
    "img = cv2.imread('__data/image/img.jpg', -1)"
   ]
  },
  {
   "cell_type": "markdown",
   "id": "331a5e7f",
   "metadata": {},
   "source": [
    "# Text"
   ]
  },
  {
   "cell_type": "code",
   "execution_count": 3,
   "id": "00dde64c",
   "metadata": {},
   "outputs": [],
   "source": [
    "font = cv2.FONT_ITALIC\n",
    "img_text = cv2.putText(img=img, text='Hello World!', org=(200,200), fontFace=font, fontScale=1, color=(255,0,255), thickness=5)\n",
    "\n",
    "cv2.imshow('text', img_text)\n",
    "\n",
    "cv2.waitKey(0)\n",
    "cv2.destroyAllWindows()"
   ]
  },
  {
   "cell_type": "markdown",
   "id": "11ae3024",
   "metadata": {},
   "source": [
    "# Shape"
   ]
  },
  {
   "cell_type": "markdown",
   "id": "347ae87b",
   "metadata": {},
   "source": [
    "#### Line"
   ]
  },
  {
   "cell_type": "code",
   "execution_count": 4,
   "id": "537c4fc3",
   "metadata": {},
   "outputs": [],
   "source": [
    "img_line = cv2.line(img=img, pt1=(150,150), pt2=(450,250), color=(125,146,32), thickness=5)\n",
    "\n",
    "cv2.imshow('line', img_line)\n",
    "\n",
    "cv2.waitKey(0)\n",
    "cv2.destroyAllWindows()"
   ]
  },
  {
   "cell_type": "markdown",
   "id": "0e75c8ef",
   "metadata": {},
   "source": [
    "#### circle"
   ]
  },
  {
   "cell_type": "code",
   "execution_count": 5,
   "id": "d83f5259",
   "metadata": {},
   "outputs": [],
   "source": [
    "img_circle = cv2.circle(img=img, center=(300,200), radius=150, color=(64,15,255), thickness=5) # thickness=cv2.FILLED or -1\n",
    "\n",
    "cv2.imshow('circle', img_circle)\n",
    "\n",
    "cv2.waitKey(0)\n",
    "cv2.destroyAllWindows()"
   ]
  },
  {
   "cell_type": "markdown",
   "id": "a919af31",
   "metadata": {},
   "source": [
    "#### rectangle"
   ]
  },
  {
   "cell_type": "code",
   "execution_count": 6,
   "id": "6d53d183",
   "metadata": {},
   "outputs": [],
   "source": [
    "img_rectangle = cv2.rectangle(img=img, pt1=(150,150), pt2=(450,250), color=(5,6,75), thickness=5) # thickness=cv2.FILLED or -1\n",
    "                                                   \n",
    "cv2.imshow('rectangle', img_rectangle)\n",
    "\n",
    "cv2.waitKey(0)\n",
    "cv2.destroyAllWindows()"
   ]
  },
  {
   "cell_type": "markdown",
   "id": "42b7e94a",
   "metadata": {},
   "source": [
    "#### poly lines"
   ]
  },
  {
   "cell_type": "code",
   "execution_count": 7,
   "id": "105ff0b5",
   "metadata": {},
   "outputs": [],
   "source": [
    "pts = np.array([[150,180],[300,150],[450,200],[300,300],[190,300]])\n",
    "img_polylines = cv2.polylines(img=img, pts=[pts], isClosed=True, color=(43,34,70), thickness=5) # thickness=cv2.FILLED or -1\n",
    "                                                   \n",
    "cv2.imshow('rectangle', img_polylines)\n",
    "\n",
    "cv2.waitKey(0)\n",
    "cv2.destroyAllWindows()"
   ]
  },
  {
   "cell_type": "markdown",
   "id": "c94cd9f7",
   "metadata": {},
   "source": [
    "# ellipse"
   ]
  },
  {
   "cell_type": "code",
   "execution_count": 8,
   "id": "b431ae29",
   "metadata": {},
   "outputs": [],
   "source": [
    "img_ellipse = cv2.ellipse(img=img, center=(300,200), axes=(100,50), angle=0, startAngle=0, endAngle=360, color=(154,40,62), thickness=5) # thickness=cv2.FILLED or -1\n",
    "\n",
    "cv2.imshow('rectangle', img_ellipse)\n",
    "\n",
    "cv2.waitKey(0)\n",
    "cv2.destroyAllWindows()"
   ]
  },
  {
   "cell_type": "markdown",
   "id": "1d7bf373",
   "metadata": {},
   "source": [
    "# Bord"
   ]
  },
  {
   "cell_type": "code",
   "execution_count": 9,
   "id": "4ec2cd43",
   "metadata": {},
   "outputs": [],
   "source": [
    "img_Bord = cv2.copyMakeBorder(src=img, top=10, bottom=10, left=5, right=5, borderType=cv2.BORDER_CONSTANT, value=[0,0,255])\n",
    "\n",
    "cv2.imshow('rectangle', img_Bord)\n",
    "\n",
    "cv2.waitKey(0)\n",
    "cv2.destroyAllWindows()"
   ]
  },
  {
   "cell_type": "markdown",
   "id": "d01b123c",
   "metadata": {},
   "source": [
    "<div class=\"alert alert-block alert-info\">\n",
    "<div style=\"direction:rtl;text-align:left\"><strong> OpenCV</strong><br>MohammadReza <strong>Khajedaloi</strong><br><br>\n",
    "</div>\n",
    "<div style=\"direction:rtl;text-align:right\">\n",
    "<a href=\"http://mohammadkh.ir/\">WebSite</a> - <a href=\"https://github.com/khajedaloi/\">GitHub</a> - <a href=\"https://www.linkedin.com/in/mohammad-kh/\">Linkedin</a>\n",
    "</div>\n",
    "</div>"
   ]
  }
 ],
 "metadata": {
  "kernelspec": {
   "display_name": "deep",
   "language": "python",
   "name": "deep_"
  },
  "language_info": {
   "codemirror_mode": {
    "name": "ipython",
    "version": 3
   },
   "file_extension": ".py",
   "mimetype": "text/x-python",
   "name": "python",
   "nbconvert_exporter": "python",
   "pygments_lexer": "ipython3",
   "version": "3.9.7"
  }
 },
 "nbformat": 4,
 "nbformat_minor": 5
}
