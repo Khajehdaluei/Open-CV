{
 "cells": [
  {
   "cell_type": "markdown",
   "id": "b5efd2e8",
   "metadata": {},
   "source": [
    "<div style=\"direction:rtl;text-align:center\"><img src=\"https://dl.mohammadkh.ir/logo.png\" alt=\"Mohammadkh.ir\" style=\"width: 250px;\"/></div>\n",
    "<h1><div style=\"direction:rtl;text-align:center\">Open CV</div></h1>"
   ]
  },
  {
   "cell_type": "code",
   "execution_count": null,
   "id": "e5e66b3f",
   "metadata": {},
   "outputs": [],
   "source": [
    "import cv2"
   ]
  },
  {
   "cell_type": "markdown",
   "id": "cba1d3aa",
   "metadata": {},
   "source": [
    "### Load & Show & save"
   ]
  },
  {
   "cell_type": "code",
   "execution_count": null,
   "id": "070bf960",
   "metadata": {},
   "outputs": [],
   "source": [
    "img = cv2.imread('__data/image/img.jpg', -1) # -1 -> defult, 1 -> color, 0 -> gray"
   ]
  },
  {
   "cell_type": "code",
   "execution_count": null,
   "id": "07844f90",
   "metadata": {},
   "outputs": [],
   "source": [
    "cv2.imshow('new', img)\n",
    "cv2.waitKey(0)               # 0 -> unlimited\n",
    "cv2.destroyAllWindows()      # del img in memory"
   ]
  },
  {
   "cell_type": "code",
   "execution_count": null,
   "id": "c6974af5",
   "metadata": {},
   "outputs": [],
   "source": [
    "b, g, r =cv2.split(img)\n",
    "img = cv2.merge((b, g, r))"
   ]
  },
  {
   "cell_type": "code",
   "execution_count": null,
   "id": "0e78df12",
   "metadata": {},
   "outputs": [],
   "source": [
    "cv2.imwrite('__data/image/img.jpg',img)"
   ]
  },
  {
   "cell_type": "markdown",
   "id": "e860432d",
   "metadata": {},
   "source": [
    "<div class=\"alert alert-block alert-info\">\n",
    "<div style=\"direction:rtl;text-align:left\"><strong> OpenCV</strong><br>MohammadReza <strong>Khajedaloi</strong><br><br>\n",
    "</div>\n",
    "<div style=\"direction:rtl;text-align:right\">\n",
    "<a href=\"http://mohammadkh.ir/\">WebSite</a> - <a href=\"https://github.com/khajedaloi/\">GitHub</a> - <a href=\"https://www.linkedin.com/in/mohammad-kh/\">Linkedin</a>\n",
    "</div>\n",
    "</div>"
   ]
  }
 ],
 "metadata": {
  "kernelspec": {
   "display_name": "Python 3 (ipykernel)",
   "language": "python",
   "name": "python3"
  },
  "language_info": {
   "codemirror_mode": {
    "name": "ipython",
    "version": 3
   },
   "file_extension": ".py",
   "mimetype": "text/x-python",
   "name": "python",
   "nbconvert_exporter": "python",
   "pygments_lexer": "ipython3",
   "version": "3.9.7"
  }
 },
 "nbformat": 4,
 "nbformat_minor": 5
}
