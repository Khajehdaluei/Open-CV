{
 "cells": [
  {
   "cell_type": "markdown",
   "id": "21f4fcce",
   "metadata": {},
   "source": [
    "<div style=\"direction:rtl;text-align:center\"><img src=\"https://dl.mohammadkh.ir/logo.png\" alt=\"Mohammadkh.ir\" style=\"width: 250px;\"/></div>\n",
    "<h1><div style=\"direction:rtl;text-align:center\">Open CV</div></h1>"
   ]
  },
  {
   "cell_type": "code",
   "execution_count": 1,
   "id": "6bd81e1c",
   "metadata": {},
   "outputs": [],
   "source": [
    "import cv2"
   ]
  },
  {
   "cell_type": "markdown",
   "id": "9def5b3b",
   "metadata": {},
   "source": [
    "# Marge Image (Remove BG)"
   ]
  },
  {
   "cell_type": "code",
   "execution_count": 2,
   "id": "9680538a",
   "metadata": {},
   "outputs": [],
   "source": [
    "img = cv2.imread('../__data/image/img.jpg')\n",
    "logo = cv2.imread('../__data/image/logo.jpg')\n",
    "\n",
    "# preproccessing\n",
    "logo = cv2.resize(src=logo, dsize=(100,110))\n",
    "row, col, channels = logo.shape\n",
    "img_ = img[0:row, 0:col]\n",
    "logo_ = cv2.cvtColor(logo, cv2.COLOR_BGR2GRAY)\n",
    "\n",
    "# mask\n",
    "ret, mask = cv2.threshold(src=logo_, thresh=210, maxval=255, type=cv2.THRESH_BINARY)\n",
    "mask_inv = cv2.bitwise_not(mask)\n",
    "\n",
    "# blur mask\n",
    "mask_inv = cv2.medianBlur(src=mask_inv, ksize=5)\n",
    "\n",
    "# replase mask\n",
    "img_ = cv2.bitwise_and(src1=img_, src2=img_, mask=mask)\n",
    "logo_ = cv2.bitwise_and(src1=logo, src2=logo , mask=mask_inv)\n",
    "\n",
    "# marge\n",
    "marge = cv2.add(src1=img_, src2=logo_)\n",
    "\n",
    "img[0:row,0:col] = marge\n",
    "\n",
    "# show\n",
    "# cv2.imshow('mask', mask)\n",
    "# cv2.imshow('mask inv', mask_inv)\n",
    "# cv2.imshow('img_mask', img_)\n",
    "# cv2.imshow('logo_mask', logo_)\n",
    "# cv2.imshow('marge', marge)\n",
    "cv2.imshow('final', img)\n",
    "\n",
    "cv2.waitKey(0)\n",
    "cv2.destroyAllWindows()"
   ]
  },
  {
   "cell_type": "markdown",
   "id": "e860432d",
   "metadata": {},
   "source": [
    "<div class=\"alert alert-block alert-info\">\n",
    "<div style=\"direction:rtl;text-align:left\"><strong> OpenCV</strong><br>MohammadReza <strong>Khajedaloi</strong><br><br>\n",
    "</div>\n",
    "<div style=\"direction:rtl;text-align:right\">\n",
    "<a href=\"http://mohammadkh.ir/\">WebSite</a> - <a href=\"https://github.com/khajedaloi/\">GitHub</a> - <a href=\"https://www.linkedin.com/in/mohammad-kh/\">Linkedin</a>\n",
    "</div>\n",
    "</div>"
   ]
  }
 ],
 "metadata": {
  "kernelspec": {
   "display_name": "deep",
   "language": "python",
   "name": "deep_"
  },
  "language_info": {
   "codemirror_mode": {
    "name": "ipython",
    "version": 3
   },
   "file_extension": ".py",
   "mimetype": "text/x-python",
   "name": "python",
   "nbconvert_exporter": "python",
   "pygments_lexer": "ipython3",
   "version": "3.9.7"
  }
 },
 "nbformat": 4,
 "nbformat_minor": 5
}
