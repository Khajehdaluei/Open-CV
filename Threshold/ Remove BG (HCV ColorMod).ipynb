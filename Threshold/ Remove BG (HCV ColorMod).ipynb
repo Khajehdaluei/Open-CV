{
 "cells": [
  {
   "cell_type": "markdown",
   "id": "1be17246",
   "metadata": {},
   "source": [
    "<div style=\"direction:rtl;text-align:center\"><img src=\"https://dl.mohammadkh.ir/logo.png\" alt=\"Mohammadkh.ir\" style=\"width: 250px;\"/></div>\n",
    "<h1><div style=\"direction:rtl;text-align:center\">Open CV</div></h1>"
   ]
  },
  {
   "cell_type": "code",
   "execution_count": 1,
   "id": "6bd81e1c",
   "metadata": {},
   "outputs": [],
   "source": [
    "import cv2\n",
    "import numpy as np"
   ]
  },
  {
   "cell_type": "code",
   "execution_count": 2,
   "id": "7d44c9c0",
   "metadata": {},
   "outputs": [],
   "source": [
    "cv2.namedWindow('Trackbar', cv2.WINDOW_NORMAL)\n",
    "\n",
    "def ey(a):\n",
    "    pass\n",
    "\n",
    "cv2.createTrackbar('H min', 'Trackbar',0, 179,ey)\n",
    "cv2.createTrackbar('H max', 'Trackbar', 179, 179,ey)\n",
    "\n",
    "cv2.createTrackbar('C min', 'Trackbar',0, 255,ey)\n",
    "cv2.createTrackbar('C max', 'Trackbar', 255, 255,ey)\n",
    "\n",
    "cv2.createTrackbar('V min', 'Trackbar',0, 255,ey)\n",
    "cv2.createTrackbar('V max', 'Trackbar', 255, 255,ey)\n",
    "\n",
    "cap = cv2.VideoCapture(0)\n",
    "\n",
    "while True:\n",
    "    _,frame = cap.read()\n",
    "    \n",
    "    h_min = cv2.getTrackbarPos(trackbarname='H min', winname='Trackbar')\n",
    "    h_max = cv2.getTrackbarPos(trackbarname='H max', winname='Trackbar')\n",
    "    \n",
    "    c_min = cv2.getTrackbarPos(trackbarname='C min', winname='Trackbar')\n",
    "    c_max = cv2.getTrackbarPos(trackbarname='C max', winname='Trackbar')\n",
    "    \n",
    "    v_min = cv2.getTrackbarPos(trackbarname='V min', winname='Trackbar')\n",
    "    v_max = cv2.getTrackbarPos(trackbarname='V max', winname='Trackbar')\n",
    "    \n",
    "    # hcv --> H = color, C = Saturation(ghelzat), V = brighter\n",
    "    # h --> 0-179 , s,v->0,255\n",
    "    hcv = cv2.cvtColor(frame, cv2.COLOR_BGR2HSV)\n",
    "    lower = np.array([h_min,c_min,v_min])\n",
    "    upper = np.array([h_max,c_max,v_max])\n",
    "    mask = cv2.inRange(hcv, lower, upper)\n",
    "    \n",
    "    res = cv2.bitwise_and(frame, frame, mask=mask)\n",
    "    \n",
    "    cv2.imshow('frame', res)\n",
    "    \n",
    "    if cv2.waitKey(1) == ord('q'):\n",
    "        break\n",
    "        \n",
    "cap.release()\n",
    "cv2.destroyAllWindows()   "
   ]
  },
  {
   "cell_type": "markdown",
   "id": "e860432d",
   "metadata": {},
   "source": [
    "<div class=\"alert alert-block alert-info\">\n",
    "<div style=\"direction:rtl;text-align:left\"><strong> OpenCV</strong><br>MohammadReza <strong>Khajedaloi</strong><br><br>\n",
    "</div>\n",
    "<div style=\"direction:rtl;text-align:right\">\n",
    "<a href=\"http://mohammadkh.ir/\">WebSite</a> - <a href=\"https://github.com/khajedaloi/\">GitHub</a> - <a href=\"https://www.linkedin.com/in/mohammad-kh/\">Linkedin</a>\n",
    "</div>\n",
    "</div>"
   ]
  }
 ],
 "metadata": {
  "kernelspec": {
   "display_name": "deep",
   "language": "python",
   "name": "deep_"
  },
  "language_info": {
   "codemirror_mode": {
    "name": "ipython",
    "version": 3
   },
   "file_extension": ".py",
   "mimetype": "text/x-python",
   "name": "python",
   "nbconvert_exporter": "python",
   "pygments_lexer": "ipython3",
   "version": "3.9.7"
  }
 },
 "nbformat": 4,
 "nbformat_minor": 5
}
