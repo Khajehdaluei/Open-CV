{
 "cells": [
  {
   "cell_type": "markdown",
   "id": "7858bab9",
   "metadata": {},
   "source": [
    "<div style=\"direction:rtl;text-align:center\"><img src=\"https://mohammadkh.ir/github/logo.png\" alt=\"Mohammadkh.ir\" style=\"width: 250px;\"/></div>\n",
    "<h1><div style=\"direction:rtl;text-align:center\">Open CV</div></h1>"
   ]
  },
  {
   "cell_type": "code",
   "execution_count": 1,
   "id": "6bd81e1c",
   "metadata": {},
   "outputs": [],
   "source": [
    "import cv2"
   ]
  },
  {
   "cell_type": "markdown",
   "id": "2bb90cf3",
   "metadata": {},
   "source": [
    "# Select Text"
   ]
  },
  {
   "cell_type": "code",
   "execution_count": 2,
   "id": "795265d2",
   "metadata": {},
   "outputs": [],
   "source": [
    "img = cv2.imread('../__data/image/book.jpg')\n",
    "img = cv2.resize(img, (500,350))\n",
    "gray = cv2.cvtColor(img, cv2.COLOR_BGR2GRAY)\n",
    "\n",
    "ret, mask_c = cv2.threshold(src=img, thresh=12, maxval=255, type=cv2.THRESH_BINARY)\n",
    "ret, mask_g = cv2.threshold(src=gray, thresh=12, maxval=255, type=cv2.THRESH_BINARY)\n",
    "\n",
    "adap_mask_g = cv2.adaptiveThreshold(src=gray, maxValue=255, adaptiveMethod=cv2.ADAPTIVE_THRESH_GAUSSIAN_C,\n",
    "                                  thresholdType=cv2.THRESH_BINARY, blockSize=115, C=1)\n",
    "\n",
    "adap_mask_m = cv2.adaptiveThreshold(src=gray, maxValue=255, adaptiveMethod=cv2.ADAPTIVE_THRESH_MEAN_C,\n",
    "                                  thresholdType=cv2.THRESH_BINARY, blockSize=115, C=1)\n",
    "\n",
    "v1_img = cv2.hconcat([img, mask_c])\n",
    "v2_img = cv2.hconcat([mask_g, adap_mask_g, adap_mask_m])\n",
    "\n",
    "# show\n",
    "# cv2.imshow('orginal', img)\n",
    "# cv2.imshow('mask Color', mask_c)\n",
    "# cv2.imshow('mask gray', mask_g)\n",
    "# cv2.imshow('adap mask g', adap_mask_g)\n",
    "# cv2.imshow('adap mask m', adap_mask_m)\n",
    "cv2.imshow('out1', v1_img)\n",
    "cv2.imshow('out2', v2_img)\n",
    "\n",
    "cv2.waitKey(0)\n",
    "cv2.destroyAllWindows()"
   ]
  },
  {
   "cell_type": "markdown",
   "id": "e860432d",
   "metadata": {},
   "source": [
    "<div class=\"alert alert-block alert-info\">\n",
    "<div style=\"direction:rtl;text-align:left\"><strong> OpenCV</strong><br>MohammadReza <strong>Khajedaloi</strong><br><br>\n",
    "</div>\n",
    "<div style=\"direction:rtl;text-align:right\">\n",
    "<a href=\"http://mohammadkh.ir/\">WebSite</a> - <a href=\"https://github.com/khajedaloi/\">GitHub</a> - <a href=\"https://www.linkedin.com/in/mohammad-kh/\">Linkedin</a>\n",
    "</div>\n",
    "</div>"
   ]
  }
 ],
 "metadata": {
  "kernelspec": {
   "display_name": "deep",
   "language": "python",
   "name": "deep_"
  },
  "language_info": {
   "codemirror_mode": {
    "name": "ipython",
    "version": 3
   },
   "file_extension": ".py",
   "mimetype": "text/x-python",
   "name": "python",
   "nbconvert_exporter": "python",
   "pygments_lexer": "ipython3",
   "version": "3.9.7"
  }
 },
 "nbformat": 4,
 "nbformat_minor": 5
}
