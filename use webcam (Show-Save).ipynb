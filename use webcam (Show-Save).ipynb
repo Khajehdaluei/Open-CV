{
 "cells": [
  {
   "cell_type": "markdown",
   "id": "2ff7e848",
   "metadata": {},
   "source": [
    "<center></center>\n",
    "<img src=\"__data/logo.png\" alt=\"Mohammadkh.ir\" style=\"width: 250px;\"/>\n",
    "<h1><center><div style=\"direction:rtl\">Open CV</div></center></h1>"
   ]
  },
  {
   "cell_type": "code",
   "execution_count": null,
   "id": "168ff9f1",
   "metadata": {},
   "outputs": [],
   "source": [
    "import cv2"
   ]
  },
  {
   "cell_type": "markdown",
   "id": "40ddfad3",
   "metadata": {},
   "source": [
    "## Read & Show & Save"
   ]
  },
  {
   "cell_type": "code",
   "execution_count": null,
   "id": "a711b6e2",
   "metadata": {},
   "outputs": [],
   "source": [
    "cap = cv2.VideoCapture(0)  # 0 --> first conect\n",
    "\n",
    "fourcc = cv2.VideoWriter_fourcc(*'XVID') # XVID or mp4v\n",
    "out = cv2.VideoWriter(filename='__data/image/OutPutWebcam.avi', fourcc=fourcc, fps=24.0, frameSize=(640,480)) # avi or mp4\n",
    "\n",
    "while True:\n",
    "    ret, frame = cap.read()                             # Read\n",
    "    \n",
    "    #preproccessing\n",
    "    frame = cv2.flip(frame, 1)                          # filip frame\n",
    "    \n",
    "    if ret == True:\n",
    "        cv2.imshow('cap',frame)                         # Show\n",
    "        \n",
    "        out.write(frame)                                # Save Video\n",
    "        \n",
    "        if cv2.waitKey(1) == ord('c'):                  # get and save image\n",
    "            cv2.imwrite('OutPutWebcam.jpg', frame)\n",
    "    \n",
    "    if cv2.waitKey(1) & 0xFF == ord('q'): #  0 -> unlimited # any number --> per mili sec | 0xFF --> val key ram save  | esc val key = 27\n",
    "        break\n",
    "\n",
    "cap.release()\n",
    "out.release()\n",
    "cv2.destroyAllWindows()"
   ]
  },
  {
   "cell_type": "markdown",
   "id": "e860432d",
   "metadata": {},
   "source": [
    "<div class=\"alert alert-block alert-info\">\n",
    "<div style=\"direction:rtl;text-align:left\"><strong> OpenCV</strong><br>MohammadReza <strong>Khajedaloi</strong><br><br>\n",
    "</div>\n",
    "<div style=\"direction:rtl;text-align:right\">\n",
    "<a href=\"http://mohammadkh.ir/\">WebSite</a> - <a href=\"https://github.com/khajedaloi/\">GitHub</a> - <a href=\"https://www.linkedin.com/in/mohammad-kh/\">Linkedin</a>\n",
    "</div>\n",
    "</div>"
   ]
  }
 ],
 "metadata": {
  "kernelspec": {
   "display_name": "deep",
   "language": "python",
   "name": "deep_"
  },
  "language_info": {
   "codemirror_mode": {
    "name": "ipython",
    "version": 3
   },
   "file_extension": ".py",
   "mimetype": "text/x-python",
   "name": "python",
   "nbconvert_exporter": "python",
   "pygments_lexer": "ipython3",
   "version": "3.9.7"
  }
 },
 "nbformat": 4,
 "nbformat_minor": 5
}
