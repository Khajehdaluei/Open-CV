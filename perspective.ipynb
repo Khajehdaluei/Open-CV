{
 "cells": [
  {
   "cell_type": "markdown",
   "id": "2ff7e848",
   "metadata": {},
   "source": [
    "<center></center>\n",
    "<img src=\"__data/logo.png\" alt=\"Mohammadkh.ir\" style=\"width: 250px;\"/>\n",
    "<h1><center><div style=\"direction:rtl\">Open CV</div></center></h1>"
   ]
  },
  {
   "cell_type": "code",
   "execution_count": 1,
   "id": "ee0bff06",
   "metadata": {},
   "outputs": [],
   "source": [
    "import cv2\n",
    "import numpy as np"
   ]
  },
  {
   "cell_type": "code",
   "execution_count": 2,
   "id": "6113395a",
   "metadata": {},
   "outputs": [],
   "source": [
    "img = cv2.imread('__data/image/perspective.png')\n",
    "\n",
    "# final image\n",
    "w,h = 600,150\n",
    "\n",
    "# find pt for get perspective\n",
    "pts1 = np.float32([[505,202],[1000,440],[505,558],[1000,470]])\n",
    "pts2 = np.float32([[0,0],[w,0],[0,h],[w,h]])\n",
    "\n",
    "# create\n",
    "matrix = cv2.getPerspectiveTransform(pts1, pts2)\n",
    "# fit\n",
    "res = cv2.warpPerspective(src=img, M=matrix, dsize=(w,h))\n",
    "\n",
    "# show\n",
    "cv2.imshow('img', img)\n",
    "cv2.imshow('res', res)\n",
    "\n",
    "cv2.waitKey(0)\n",
    "cv2.destroyAllWindows()"
   ]
  },
  {
   "cell_type": "markdown",
   "id": "e860432d",
   "metadata": {},
   "source": [
    "<div class=\"alert alert-block alert-info\">\n",
    "<div style=\"direction:rtl;text-align:left\"><strong> OpenCV</strong><br>MohammadReza <strong>Khajedaloi</strong><br><br>\n",
    "</div>\n",
    "<div style=\"direction:rtl;text-align:right\">\n",
    "<a href=\"http://mohammadkh.ir/\">WebSite</a> - <a href=\"https://github.com/khajedaloi/\">GitHub</a> - <a href=\"https://www.linkedin.com/in/mohammad-kh/\">Linkedin</a>\n",
    "</div>\n",
    "</div>"
   ]
  }
 ],
 "metadata": {
  "kernelspec": {
   "display_name": "deep",
   "language": "python",
   "name": "deep_"
  },
  "language_info": {
   "codemirror_mode": {
    "name": "ipython",
    "version": 3
   },
   "file_extension": ".py",
   "mimetype": "text/x-python",
   "name": "python",
   "nbconvert_exporter": "python",
   "pygments_lexer": "ipython3",
   "version": "3.9.7"
  }
 },
 "nbformat": 4,
 "nbformat_minor": 5
}
