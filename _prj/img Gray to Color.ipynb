{
 "cells": [
  {
   "cell_type": "markdown",
   "id": "2ff7e848",
   "metadata": {},
   "source": [
    "<center></center>\n",
    "<img src=\"../__data/logo.png\" alt=\"Mohammadkh.ir\" style=\"width: 250px;\"/>\n",
    "<h1><center><div style=\"direction:rtl\">Open CV</div></center></h1>"
   ]
  },
  {
   "cell_type": "markdown",
   "id": "948bbc62",
   "metadata": {},
   "source": [
    "### paper --> http://richzhang.github.io/colorization/"
   ]
  },
  {
   "cell_type": "code",
   "execution_count": 1,
   "id": "1561bc6b",
   "metadata": {},
   "outputs": [],
   "source": [
    "import cv2\n",
    "import numpy as np"
   ]
  },
  {
   "cell_type": "code",
   "execution_count": 2,
   "id": "3145ba2b",
   "metadata": {},
   "outputs": [],
   "source": [
    "proto_file = '../__data/Detection model/gray to color/colorization_deploy_v2.prototxt'\n",
    "model_file = '../__data/Detection model/gray to color/colorization_release_v2.caffemodel'\n",
    "hull_pts = '../__data/Detection model/gray to color/pts_in_hull.npy'\n",
    "\n",
    "net = cv2.dnn.readNetFromCaffe(proto_file,model_file)\n",
    "kernel = np.load(hull_pts)\n",
    "\n",
    "class8 = net.getLayerId(\"class8_ab\")\n",
    "conv8 = net.getLayerId(\"conv8_313_rh\")\n",
    "pts = kernel.transpose().reshape(2, 313, 1, 1)\n",
    "net.getLayer(class8).blobs = [pts.astype(\"float32\")]\n",
    "net.getLayer(conv8).blobs = [np.full([1, 313], 2.606, dtype=\"float32\")]"
   ]
  },
  {
   "cell_type": "code",
   "execution_count": 3,
   "id": "1dadcf30",
   "metadata": {},
   "outputs": [],
   "source": [
    "img_path = '../__data/image/gray.jpg'\n",
    "\n",
    "img = cv2.imread(img_path)\n",
    "# scale\n",
    "scaled = img.astype(\"float32\") / 255.0\n",
    "# conv bgr to LAB\n",
    "lab_img = cv2.cvtColor(scaled, cv2.COLOR_BGR2LAB)\n",
    "# resize to input network\n",
    "resized = cv2.resize(lab_img, (224, 224))\n",
    "# split the L channel\n",
    "L = cv2.split(resized)[0]\n",
    "# mean subtraction\n",
    "L -= 50\n",
    "\n",
    "# peredict\n",
    "net.setInput(cv2.dnn.blobFromImage(L))\n",
    "ab_channel = net.forward()\n",
    "ab_channel = ab_channel[0, :, :, :].transpose((1, 2, 0))\n",
    "# resize the predicted 'ab' volume to the same dimensions as our\n",
    "# input image\n",
    "ab_channel = cv2.resize(ab_channel, (img.shape[1], img.shape[0]))\n",
    "\n",
    "\n",
    "# Take the L channel from the image\n",
    "L = cv2.split(lab_img)[0]\n",
    "# Join the L channel with predicted ab channel\n",
    "colorized = np.concatenate((L[:, :, np.newaxis], ab_channel), axis=2)\n",
    "\n",
    "# Then convert the image from Lab to BGR\n",
    "colorized = cv2.cvtColor(colorized, cv2.COLOR_LAB2BGR)\n",
    "# all val between to 0-1\n",
    "colorized = np.clip(colorized, 0, 1)\n",
    "# change the image to 0-255 range and convert it from float32 to int\n",
    "colorized = (255 * colorized).astype(\"uint8\")\n",
    "\n",
    "# Let's resize the images and show better them together\n",
    "img = cv2.resize(img,(640,640))\n",
    "colorized = cv2.resize(colorized,(640,640))\n",
    "\n",
    "result = cv2.hconcat([img,colorized])\n",
    "\n",
    "cv2.imshow(\"Grayscale -> Colour\", result)\n",
    "\n",
    "cv2.waitKey(0)\n",
    "cv2.destroyAllWindows()"
   ]
  },
  {
   "cell_type": "markdown",
   "id": "e860432d",
   "metadata": {},
   "source": [
    "<div class=\"alert alert-block alert-info\">\n",
    "<div style=\"direction:rtl;text-align:left\"><strong> OpenCV</strong><br>MohammadReza <strong>Khajedaloi</strong><br><br>\n",
    "</div>\n",
    "<div style=\"direction:rtl;text-align:right\">\n",
    "<a href=\"http://mohammadkh.ir/\">WebSite</a> - <a href=\"https://github.com/khajedaloi/\">GitHub</a> - <a href=\"https://www.linkedin.com/in/mohammad-kh/\">Linkedin</a>\n",
    "</div>\n",
    "</div>"
   ]
  }
 ],
 "metadata": {
  "kernelspec": {
   "display_name": "Python 3 (ipykernel)",
   "language": "python",
   "name": "python3"
  },
  "language_info": {
   "codemirror_mode": {
    "name": "ipython",
    "version": 3
   },
   "file_extension": ".py",
   "mimetype": "text/x-python",
   "name": "python",
   "nbconvert_exporter": "python",
   "pygments_lexer": "ipython3",
   "version": "3.9.7"
  }
 },
 "nbformat": 4,
 "nbformat_minor": 5
}
