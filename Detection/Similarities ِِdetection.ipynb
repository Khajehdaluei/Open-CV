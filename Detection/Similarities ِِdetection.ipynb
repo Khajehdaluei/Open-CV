{
 "cells": [
  {
   "cell_type": "code",
   "execution_count": 1,
   "id": "1561bc6b",
   "metadata": {},
   "outputs": [],
   "source": [
    "import cv2\n",
    "import numpy as np\n",
    "import matplotlib.pyplot as plt"
   ]
  },
  {
   "cell_type": "code",
   "execution_count": 2,
   "id": "822fa02a",
   "metadata": {},
   "outputs": [],
   "source": [
    "img = cv2.imread(\"../__data/image/Similarities detection 2.jpg\")\n",
    "img_template = cv2.imread(\"../__data/image/Similarities detection 1.jpg\")\n",
    "\n",
    "# cread detection \n",
    "orb = cv2.ORB_create()\n",
    "# fit\n",
    "kp1, des1 = orb.detectAndCompute(img_template, None)\n",
    "kp2, des2 = orb.detectAndCompute(img, None)\n",
    "\n",
    "# create find similaritie\n",
    "bf = cv2.BFMatcher(cv2.NORM_HAMMING, crossCheck=True)\n",
    "# fit & sort\n",
    "matches = bf.match(des1, des2)\n",
    "matches = sorted(matches, key=lambda x: x.distance)\n",
    "\n",
    "img_out = cv2.drawMatches(img_template, kp1, img, kp2, matches[:5000], None, flags=2)\n",
    "\n",
    "cv2.imshow('img', img_out)\n",
    "\n",
    "cv2.waitKey(0)\n",
    "cv2.destroyAllWindows()"
   ]
  },
  {
   "cell_type": "markdown",
   "id": "e860432d",
   "metadata": {},
   "source": [
    "<div class=\"alert alert-block alert-info\">\n",
    "<div style=\"direction:rtl;text-align:left\"><strong> OpenCV</strong><br>MohammadReza <strong>Khajedaloi</strong><br><br>\n",
    "</div>\n",
    "<div style=\"direction:rtl;text-align:right\">\n",
    "<a href=\"http://mohammadkh.ir/\">WebSite</a> - <a href=\"https://github.com/khajedaloi/\">GitHub</a> - <a href=\"https://www.linkedin.com/in/mohammad-kh/\">Linkedin</a>\n",
    "</div>\n",
    "</div>"
   ]
  }
 ],
 "metadata": {
  "kernelspec": {
   "display_name": "Python 3 (ipykernel)",
   "language": "python",
   "name": "python3"
  },
  "language_info": {
   "codemirror_mode": {
    "name": "ipython",
    "version": 3
   },
   "file_extension": ".py",
   "mimetype": "text/x-python",
   "name": "python",
   "nbconvert_exporter": "python",
   "pygments_lexer": "ipython3",
   "version": "3.9.7"
  }
 },
 "nbformat": 4,
 "nbformat_minor": 5
}
