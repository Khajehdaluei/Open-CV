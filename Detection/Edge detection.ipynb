{
 "cells": [
  {
   "cell_type": "markdown",
   "id": "2ff7e848",
   "metadata": {},
   "source": [
    "<center></center>\n",
    "<img src=\"../__data/logo.png\" alt=\"Mohammadkh.ir\" style=\"width: 250px;\"/>\n",
    "<h1><center><div style=\"direction:rtl\">Open CV</div></center></h1>"
   ]
  },
  {
   "cell_type": "code",
   "execution_count": null,
   "id": "1561bc6b",
   "metadata": {},
   "outputs": [],
   "source": [
    "import cv2"
   ]
  },
  {
   "cell_type": "markdown",
   "id": "64dd068b",
   "metadata": {},
   "source": [
    "# Edge detection"
   ]
  },
  {
   "cell_type": "code",
   "execution_count": null,
   "id": "69ebe177",
   "metadata": {},
   "outputs": [],
   "source": [
    "cap = cv2.VideoCapture(0)\n",
    "\n",
    "while True:\n",
    "    _, frame = cap.read()\n",
    "    \n",
    "    # Laplacian Method\n",
    "    Laplacian = cv2.Laplacian(src=frame, ddepth=cv2.CV_8U)\n",
    "    # Sobel\n",
    "    SobelX = cv2.Sobel(src=frame, ddepth=cv2.CV_8U, dx=1, dy=0, ksize=5)\n",
    "    SobelY = cv2.Sobel(src=frame, ddepth=cv2.CV_8U, dx=0, dy=1, ksize=5)\n",
    "    # Canny\n",
    "    Canny = cv2.Canny(image=frame, threshold1=100, threshold2=200)\n",
    "    \n",
    "    \n",
    "    Sobel = cv2.hconcat([SobelX, SobelY])\n",
    "\n",
    "    # Show\n",
    "    cv2.imshow('frame', frame)\n",
    "    cv2.imshow('Laplacian', Laplacian)\n",
    "    #cv2.imshow('SobelX', SobelX)\n",
    "    #cv2.imshow('SobelY', SobelY)\n",
    "    cv2.imshow('Sobel', Sobel)\n",
    "    cv2.imshow('Canny', Canny)\n",
    "    \n",
    "    if cv2.waitKey(1) == ord('q'):\n",
    "        break\n",
    "        \n",
    "cap.release()\n",
    "cv2.destroyAllWindows()"
   ]
  },
  {
   "cell_type": "markdown",
   "id": "e860432d",
   "metadata": {},
   "source": [
    "<div class=\"alert alert-block alert-info\">\n",
    "<div style=\"direction:rtl;text-align:left\"><strong> OpenCV</strong><br>MohammadReza <strong>Khajedaloi</strong><br><br>\n",
    "</div>\n",
    "<div style=\"direction:rtl;text-align:right\">\n",
    "<a href=\"http://mohammadkh.ir/\">WebSite</a> - <a href=\"https://github.com/khajedaloi/\">GitHub</a> - <a href=\"https://www.linkedin.com/in/mohammad-kh/\">Linkedin</a>\n",
    "</div>\n",
    "</div>"
   ]
  }
 ],
 "metadata": {
  "kernelspec": {
   "display_name": "Python 3 (ipykernel)",
   "language": "python",
   "name": "python3"
  },
  "language_info": {
   "codemirror_mode": {
    "name": "ipython",
    "version": 3
   },
   "file_extension": ".py",
   "mimetype": "text/x-python",
   "name": "python",
   "nbconvert_exporter": "python",
   "pygments_lexer": "ipython3",
   "version": "3.9.7"
  }
 },
 "nbformat": 4,
 "nbformat_minor": 5
}
