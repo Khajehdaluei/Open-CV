{
 "cells": [
  {
   "cell_type": "markdown",
   "id": "c750e353",
   "metadata": {},
   "source": [
    "<div style=\"direction:rtl;text-align:center\"><img src=\"https://dl.mohammadkh.ir/logo.png\" alt=\"Mohammadkh.ir\" style=\"width: 250px;\"/></div>\n",
    "<h1><div style=\"direction:rtl;text-align:center\">Open CV</div></h1>"
   ]
  },
  {
   "cell_type": "code",
   "execution_count": 1,
   "id": "1561bc6b",
   "metadata": {},
   "outputs": [],
   "source": [
    "import cv2\n",
    "import numpy as np"
   ]
  },
  {
   "cell_type": "code",
   "execution_count": 2,
   "id": "62ce71d5",
   "metadata": {},
   "outputs": [],
   "source": [
    "game = cv2.imread('../__data/image/game.jpg')\n",
    "coin = cv2.imread('../__data/image/game_coin2.jpg')\n",
    "\n",
    "# conv to gray\n",
    "game_gray = cv2.cvtColor(game, cv2.COLOR_BGR2GRAY)\n",
    "coin_gray = cv2.cvtColor(coin, cv2.COLOR_BGR2GRAY)\n",
    "\n",
    "# Shape coin\n",
    "w, h, c = coin.shape\n",
    "\n",
    "# Detecton\n",
    "res = cv2.matchTemplate(image=game_gray, templ=coin_gray, method=cv2.TM_CCOEFF_NORMED)\n",
    "# select detection \n",
    "thershold = 0.8\n",
    "loc = np.where(res >= thershold)\n",
    "# drow select detection\n",
    "for pt in zip(*loc[::-1]):\n",
    "    cv2.rectangle(game, pt, (pt[0]+w, pt[1]+h), (0,0,255),1)\n",
    "\n",
    "# show\n",
    "cv2.imshow('Detection',res)\n",
    "cv2.imshow('bord',game)\n",
    "\n",
    "\n",
    "cv2.waitKey(0)\n",
    "cv2.destroyAllWindows()"
   ]
  },
  {
   "cell_type": "markdown",
   "id": "e860432d",
   "metadata": {},
   "source": [
    "<div class=\"alert alert-block alert-info\">\n",
    "<div style=\"direction:rtl;text-align:left\"><strong> OpenCV</strong><br>MohammadReza <strong>Khajedaloi</strong><br><br>\n",
    "</div>\n",
    "<div style=\"direction:rtl;text-align:right\">\n",
    "<a href=\"http://mohammadkh.ir/\">WebSite</a> - <a href=\"https://github.com/khajedaloi/\">GitHub</a> - <a href=\"https://www.linkedin.com/in/mohammad-kh/\">Linkedin</a>\n",
    "</div>\n",
    "</div>"
   ]
  }
 ],
 "metadata": {
  "kernelspec": {
   "display_name": "Python 3 (ipykernel)",
   "language": "python",
   "name": "python3"
  },
  "language_info": {
   "codemirror_mode": {
    "name": "ipython",
    "version": 3
   },
   "file_extension": ".py",
   "mimetype": "text/x-python",
   "name": "python",
   "nbconvert_exporter": "python",
   "pygments_lexer": "ipython3",
   "version": "3.9.7"
  }
 },
 "nbformat": 4,
 "nbformat_minor": 5
}
