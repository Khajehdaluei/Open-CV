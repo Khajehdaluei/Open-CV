{
 "cells": [
  {
   "cell_type": "markdown",
   "id": "2ff7e848",
   "metadata": {},
   "source": [
    "<center></center>\n",
    "<img src=\"../__data/logo.png\" alt=\"Mohammadkh.ir\" style=\"width: 250px;\"/>\n",
    "<h1><center><div style=\"direction:rtl\">Open CV</div></center></h1>"
   ]
  },
  {
   "cell_type": "code",
   "execution_count": 1,
   "id": "29e17f1f",
   "metadata": {},
   "outputs": [],
   "source": [
    "import cv2\n",
    "import numpy as np"
   ]
  },
  {
   "cell_type": "code",
   "execution_count": 2,
   "id": "f2f47cef",
   "metadata": {},
   "outputs": [],
   "source": [
    "img = cv2.imread(\"../__data/image/morphology.jpg\")\n",
    "img = cv2.resize(img , (300,300))\n",
    "\n",
    "# set kernel\n",
    "kernel = np.ones((5, 5), np.uint8) # uint8 --> max val 256\n",
    "\n",
    "# method\n",
    "opening = cv2.morphologyEx(src=img, op=cv2.MORPH_OPEN, kernel=kernel)  # erosion->dilation\n",
    "closing = cv2.morphologyEx(src=img, op=cv2.MORPH_CLOSE, kernel=kernel) # dilation->erosion\n",
    "gradient = cv2.morphologyEx(src=img, op=cv2.MORPH_GRADIENT, kernel=kernel) # remove dilation-erosion\n",
    "\n",
    "\n",
    "# stack\n",
    "out = np.hstack((img ,opening, closing, gradient))\n",
    "\n",
    "cv2.imshow('out', out)\n",
    "\n",
    "cv2.waitKey(0)\n",
    "cv2.destroyAllWindows()"
   ]
  },
  {
   "cell_type": "markdown",
   "id": "e860432d",
   "metadata": {},
   "source": [
    "<div class=\"alert alert-block alert-info\">\n",
    "<div style=\"direction:rtl;text-align:left\"><strong> OpenCV</strong><br>MohammadReza <strong>Khajedaloi</strong><br><br>\n",
    "</div>\n",
    "<div style=\"direction:rtl;text-align:right\">\n",
    "<a href=\"http://mohammadkh.ir/\">WebSite</a> - <a href=\"https://github.com/khajedaloi/\">GitHub</a> - <a href=\"https://www.linkedin.com/in/mohammad-kh/\">Linkedin</a>\n",
    "</div>\n",
    "</div>"
   ]
  }
 ],
 "metadata": {
  "kernelspec": {
   "display_name": "deep",
   "language": "python",
   "name": "deep_"
  },
  "language_info": {
   "codemirror_mode": {
    "name": "ipython",
    "version": 3
   },
   "file_extension": ".py",
   "mimetype": "text/x-python",
   "name": "python",
   "nbconvert_exporter": "python",
   "pygments_lexer": "ipython3",
   "version": "3.9.7"
  }
 },
 "nbformat": 4,
 "nbformat_minor": 5
}
