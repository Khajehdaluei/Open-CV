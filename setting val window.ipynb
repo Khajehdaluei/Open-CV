{
 "cells": [
  {
   "cell_type": "markdown",
   "id": "a0b93614",
   "metadata": {},
   "source": [
    "<div style=\"direction:rtl;text-align:center\"><img src=\"https://mohammadkh.ir/github/logo.png\" alt=\"Mohammadkh.ir\" style=\"width: 250px;\"/></div>\n",
    "<h1><div style=\"direction:rtl;text-align:center\">Open CV</div></h1>"
   ]
  },
  {
   "cell_type": "code",
   "execution_count": 1,
   "id": "8c72960d",
   "metadata": {},
   "outputs": [],
   "source": [
    "import cv2"
   ]
  },
  {
   "cell_type": "code",
   "execution_count": null,
   "id": "a1228a3c",
   "metadata": {},
   "outputs": [],
   "source": [
    "cv2.namedWindow('Trackbar', cv2.WINDOW_NORMAL)\n",
    "cv2.resizeWindow('Trackbar', 480,100)\n",
    "\n",
    "def ey(a):\n",
    "    pass\n",
    "\n",
    "cv2.createTrackbar('val min', 'Trackbar',0, 179,ey)    # 179 -> H\n",
    "cv2.createTrackbar('val max', 'Trackbar', 179, 179,ey)\n",
    "\n",
    "while True:\n",
    "    h_min = cv2.getTrackbarPos(trackbarname='val min', winname='Trackbar')\n",
    "    h_max = cv2.getTrackbarPos(trackbarname='val max', winname='Trackbar')\n",
    "    \n",
    "    if cv2.waitKey(1) & 0xFF == 27:  # 27 -> esc\n",
    "        break\n",
    "        \n",
    "cv2.destroyAllWindows()"
   ]
  },
  {
   "cell_type": "markdown",
   "id": "e860432d",
   "metadata": {},
   "source": [
    "<div class=\"alert alert-block alert-info\">\n",
    "<div style=\"direction:rtl;text-align:left\"><strong> OpenCV</strong><br>MohammadReza <strong>Khajedaloi</strong><br><br>\n",
    "</div>\n",
    "<div style=\"direction:rtl;text-align:right\">\n",
    "<a href=\"http://mohammadkh.ir/\">WebSite</a> - <a href=\"https://github.com/khajedaloi/\">GitHub</a> - <a href=\"https://www.linkedin.com/in/mohammad-kh/\">Linkedin</a>\n",
    "</div>\n",
    "</div>"
   ]
  }
 ],
 "metadata": {
  "kernelspec": {
   "display_name": "deep",
   "language": "python",
   "name": "deep_"
  },
  "language_info": {
   "codemirror_mode": {
    "name": "ipython",
    "version": 3
   },
   "file_extension": ".py",
   "mimetype": "text/x-python",
   "name": "python",
   "nbconvert_exporter": "python",
   "pygments_lexer": "ipython3",
   "version": "3.9.7"
  }
 },
 "nbformat": 4,
 "nbformat_minor": 5
}
